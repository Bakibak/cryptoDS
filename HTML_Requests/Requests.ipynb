{
 "cells": [
  {
   "cell_type": "code",
   "execution_count": 2,
   "id": "58968461",
   "metadata": {},
   "outputs": [],
   "source": [
    "import requests"
   ]
  },
  {
   "cell_type": "markdown",
   "id": "689af068",
   "metadata": {},
   "source": [
    "## Задача 1"
   ]
  },
  {
   "cell_type": "code",
   "execution_count": 3,
   "id": "5beb8765",
   "metadata": {},
   "outputs": [
    {
     "name": "stdout",
     "output_type": "stream",
     "text": [
      "60400\n"
     ]
    }
   ],
   "source": [
    "summ = 0\n",
    "for N in range(1,201):\n",
    "    url = f'https://parsinger.ru/3.3/2/{N}.html'\n",
    "    resp = requests.get(url)\n",
    "    sc = resp.status_code\n",
    "    summ += sc\n",
    "print(summ)"
   ]
  },
  {
   "cell_type": "markdown",
   "id": "128e5b90",
   "metadata": {},
   "source": [
    "## Задача 2"
   ]
  },
  {
   "cell_type": "code",
   "execution_count": 4,
   "id": "c89887b1",
   "metadata": {},
   "outputs": [],
   "source": [
    "from tqdm import tqdm"
   ]
  },
  {
   "cell_type": "code",
   "execution_count": 5,
   "id": "1672cd34",
   "metadata": {},
   "outputs": [
    {
     "name": "stderr",
     "output_type": "stream",
     "text": [
      " 93%|██████████████████████████████████████▏  | 186/200 [00:19<00:01,  9.65it/s]\n"
     ]
    }
   ],
   "source": [
    "for N in tqdm(range(1,201)):\n",
    "    url = f'https://parsinger.ru/3.3/1/{N}.html'\n",
    "    resp = requests.get(url)\n",
    "    sc = resp.status_code\n",
    "    if sc == 200:\n",
    "        url_itog = url\n",
    "        break"
   ]
  },
  {
   "cell_type": "code",
   "execution_count": 6,
   "id": "8f4c403d",
   "metadata": {},
   "outputs": [],
   "source": [
    "resp_itog = requests.get(url_itog)"
   ]
  },
  {
   "cell_type": "code",
   "execution_count": 7,
   "id": "c31d5e55",
   "metadata": {},
   "outputs": [
    {
     "data": {
      "text/plain": [
       "'<!DOCTYPE html>\\n<html lang=\"en\">\\n<head>\\n\\t<meta charset=\"UTF-8\">\\n\\t<meta name=\"viewport\" content=\"width=device-width, initial-scale=1.0\">\\n\\t<title>Document</title>\\n</head>\\n<body>\\n\\t9876316843187416358741341687416874165432\\n</body>\\n</html>'"
      ]
     },
     "execution_count": 7,
     "metadata": {},
     "output_type": "execute_result"
    }
   ],
   "source": [
    "resp_itog.text"
   ]
  },
  {
   "cell_type": "markdown",
   "id": "d298b819",
   "metadata": {},
   "source": [
    "## Задача 3"
   ]
  },
  {
   "cell_type": "code",
   "execution_count": 8,
   "id": "c0304beb",
   "metadata": {},
   "outputs": [],
   "source": [
    "resp = requests.get('https://parsinger.ru/3.4/1/json_weather.json')\n",
    "list1 = resp.json()"
   ]
  },
  {
   "cell_type": "code",
   "execution_count": 9,
   "id": "aa4699e1",
   "metadata": {},
   "outputs": [
    {
     "name": "stdout",
     "output_type": "stream",
     "text": [
      "1999-10-06\n"
     ]
    }
   ],
   "source": [
    "date_itog = None\n",
    "temp_itog = 1000\n",
    "for i in range(len(list1)):\n",
    "    temp = int(list1[i]['Температура воздуха'].replace('°C', ''))\n",
    "    date = list1[i]['Дата']\n",
    "    if temp <= temp_itog:\n",
    "        date_itog = date\n",
    "        temp_itog = temp\n",
    "print(date_itog)"
   ]
  },
  {
   "cell_type": "code",
   "execution_count": null,
   "id": "5f5321e0",
   "metadata": {},
   "outputs": [],
   "source": []
  }
 ],
 "metadata": {
  "kernelspec": {
   "display_name": "Python 3 (ipykernel)",
   "language": "python",
   "name": "python3"
  },
  "language_info": {
   "codemirror_mode": {
    "name": "ipython",
    "version": 3
   },
   "file_extension": ".py",
   "mimetype": "text/x-python",
   "name": "python",
   "nbconvert_exporter": "python",
   "pygments_lexer": "ipython3",
   "version": "3.11.4"
  }
 },
 "nbformat": 4,
 "nbformat_minor": 5
}
