{
 "cells": [
  {
   "cell_type": "code",
   "execution_count": 30,
   "id": "80691d73",
   "metadata": {},
   "outputs": [],
   "source": [
    "import time\n",
    "import selenium\n",
    "from selenium import webdriver\n",
    "from selenium.webdriver.common.by import By\n",
    "from selenium.webdriver.support.ui import WebDriverWait\n",
    "from selenium.webdriver.support import expected_conditions as EC"
   ]
  },
  {
   "cell_type": "code",
   "execution_count": 37,
   "id": "e3d2f847",
   "metadata": {},
   "outputs": [],
   "source": [
    "options = webdriver.ChromeOptions()\n",
    "#options.add_argument('--headless')\n",
    "options.add_argument('--no-sandbox')"
   ]
  },
  {
   "cell_type": "markdown",
   "id": "6a529a92",
   "metadata": {},
   "source": [
    "# Основы Selenium"
   ]
  },
  {
   "cell_type": "markdown",
   "id": "bb64e947",
   "metadata": {},
   "source": [
    "## Задача 1"
   ]
  },
  {
   "cell_type": "code",
   "execution_count": 61,
   "id": "e5e373f2",
   "metadata": {},
   "outputs": [],
   "source": [
    "url2 = \"https://parsinger.ru/selenium/3/3.html\""
   ]
  },
  {
   "cell_type": "code",
   "execution_count": 62,
   "id": "b0569013",
   "metadata": {},
   "outputs": [],
   "source": [
    "driver = webdriver.Chrome(options=options)\n",
    "driver.get(url2)"
   ]
  },
  {
   "cell_type": "code",
   "execution_count": 63,
   "id": "16e7dcc1",
   "metadata": {},
   "outputs": [
    {
     "name": "stdout",
     "output_type": "stream",
     "text": [
      "450384194300\n"
     ]
    }
   ],
   "source": [
    "summ = 0\n",
    "for p in driver.find_elements(By.TAG_NAME, \"p\"):\n",
    "    summ += int(p.text)\n",
    "print(summ)"
   ]
  },
  {
   "cell_type": "markdown",
   "id": "66d729df",
   "metadata": {},
   "source": [
    "## Задача 2"
   ]
  },
  {
   "cell_type": "code",
   "execution_count": null,
   "id": "ed451013",
   "metadata": {},
   "outputs": [],
   "source": [
    "url3 = \"https://parsinger.ru/selenium/3/3.html\""
   ]
  },
  {
   "cell_type": "code",
   "execution_count": null,
   "id": "47b326a0",
   "metadata": {},
   "outputs": [],
   "source": [
    "driver = webdriver.Chrome(options=options)\n",
    "driver.get(url3)"
   ]
  },
  {
   "cell_type": "code",
   "execution_count": 65,
   "id": "5c0ce7af",
   "metadata": {},
   "outputs": [
    {
     "name": "stdout",
     "output_type": "stream",
     "text": [
      "149494128600\n"
     ]
    }
   ],
   "source": [
    "summ = 0\n",
    "for p2 in driver.find_elements(By.XPATH, '//div/p[2]'):\n",
    "    summ += int(p2.text)\n",
    "print(summ)"
   ]
  },
  {
   "cell_type": "markdown",
   "id": "f350508a",
   "metadata": {},
   "source": [
    "## Задача 3"
   ]
  },
  {
   "cell_type": "code",
   "execution_count": 51,
   "id": "a5c709ba",
   "metadata": {},
   "outputs": [],
   "source": [
    "url4 = \"https://parsinger.ru/selenium/4/4.html\""
   ]
  },
  {
   "cell_type": "code",
   "execution_count": 52,
   "id": "68d4f320",
   "metadata": {},
   "outputs": [],
   "source": [
    "driver = webdriver.Chrome(options=options)\n",
    "driver.get(url4)"
   ]
  },
  {
   "cell_type": "code",
   "execution_count": 53,
   "id": "892d0e15",
   "metadata": {},
   "outputs": [
    {
     "name": "stdout",
     "output_type": "stream",
     "text": [
      "3,1415926535897932384626433832795028841971\n"
     ]
    }
   ],
   "source": [
    "for ch in driver.find_elements(By.CLASS_NAME, \"check\"):\n",
    "    ch.click()\n",
    "btn = driver.find_element(By.CLASS_NAME, \"btn\")\n",
    "btn.click()\n",
    "time.sleep(2)\n",
    "res = driver.find_element(By.ID, \"result\")\n",
    "print(res.text)"
   ]
  },
  {
   "cell_type": "markdown",
   "id": "0816205a",
   "metadata": {},
   "source": [
    "## Задача 4"
   ]
  },
  {
   "cell_type": "code",
   "execution_count": 86,
   "id": "79ee0b1d",
   "metadata": {},
   "outputs": [],
   "source": [
    "url5 = \"https://parsinger.ru/selenium/5/5.html\""
   ]
  },
  {
   "cell_type": "code",
   "execution_count": 87,
   "id": "ac3b5254",
   "metadata": {},
   "outputs": [],
   "source": [
    "numbers = [1, 2, 3, 4, 8, 9, 11, 12, 13, 14, 15, 16, 17, 22, 23, 28, 29, 33, 34, 38, 39, 43, 44, 48, 49, 51, 52, 53, 54,\n",
    "55, 56, 57, 58, 61, 62, 63, 64, 68, 69, 73, 74, 78, 79, 83, 84, 88, 89, 91, 92, 97, 98, 101, 104, 108, 109, 113, 114, 118, 119, 123, 124, 128, 129, 131, 132, 137, 138, 140, 141, 144, 145, 148, 149, 153, 154, 158, 159, 163, 164, 165, 168, 169, 171, 172, 177, 178, 180, 181, 184, 185, 187, 188, 189, 190, 192, 193, 194, 195, 197, 198, 199, 200, 204, 205, 206, 207, 208, 209, 211, 212, 217, 218, 220, 221, 224, 225, 227, 228, 229, 230, 232, 233, 234, 235, 237, 238, 239, 240, 245, 246, 247, 248, 249, 251, 252, 253, 254, 255, 256, 257, 258, 260, 261, 264, 265, 268, 269, 273, 274, 278, 279, 288, 289, 291, 292, 293, 294, 295, 296, 297, 300, 301, 302, 303, 304, 305, 308, 309, 313, 314, 318, 319, 328, 329, 331, 332, 339, 340, 341, 342, 343, 344, 345, 346, 348, 349, 353, 354, 358, 359, 368, 369, 371, 372, 379, 380, 385, 386, 408, 409, 411, 412, 419, 420, 425, 426, 428, 429, 433, 434, 438, 439, 444, 445, 446, 447, 448, 451,\n",
    "452, 459, 460, 465, 466, 467, 468, 469, 470, 472, 473, 474, 475, 477, 478, 479, 480, 485, 486, 487, 488, 491, 492, 499, 500, 505, 506, 508, 509, 513, 514, 518, 519]"
   ]
  },
  {
   "cell_type": "code",
   "execution_count": 89,
   "id": "cc0a160a",
   "metadata": {},
   "outputs": [],
   "source": [
    "driver = webdriver.Chrome(options=options)\n",
    "driver.get(url5)"
   ]
  },
  {
   "cell_type": "code",
   "execution_count": 90,
   "id": "e7add2a4",
   "metadata": {},
   "outputs": [
    {
     "name": "stdout",
     "output_type": "stream",
     "text": [
      "932169874631968746874987464354\n"
     ]
    }
   ],
   "source": [
    "for ch in driver.find_elements(By.CLASS_NAME, \"check\"):\n",
    "    if int(ch.get_attribute('value')) in numbers:\n",
    "        ch.click()\n",
    "btn = driver.find_element(By.CLASS_NAME, \"btn\")\n",
    "btn.click()\n",
    "res = driver.find_element(By.ID, \"result\")\n",
    "print(res.text)"
   ]
  },
  {
   "cell_type": "markdown",
   "id": "9bfc4598",
   "metadata": {},
   "source": [
    "## Задача 5"
   ]
  },
  {
   "cell_type": "code",
   "execution_count": 114,
   "id": "9466b1fe",
   "metadata": {},
   "outputs": [],
   "source": [
    "url6 = \"https://parsinger.ru/selenium/6/6.html\""
   ]
  },
  {
   "cell_type": "code",
   "execution_count": 115,
   "id": "e4cbfc76",
   "metadata": {},
   "outputs": [],
   "source": [
    "driver = webdriver.Chrome(options=options)\n",
    "driver.get(url6)"
   ]
  },
  {
   "cell_type": "code",
   "execution_count": 117,
   "id": "021aa828",
   "metadata": {},
   "outputs": [
    {
     "name": "stdout",
     "output_type": "stream",
     "text": [
      "98763216843164361841357461685743168461\n"
     ]
    }
   ],
   "source": [
    "number = eval(driver.find_element(By.ID, \"text_box\").text)\n",
    "select = driver.find_element(By.ID, \"selectId\")\n",
    "select.click()\n",
    "for o in driver.find_elements(By.TAG_NAME, \"option\"):\n",
    "    if o.text == str(number):\n",
    "        o.click()\n",
    "btn = driver.find_element(By.CLASS_NAME, \"btn\")\n",
    "btn.click()\n",
    "res = driver.find_element(By.ID, \"result\")\n",
    "print(res.text)"
   ]
  },
  {
   "cell_type": "markdown",
   "id": "db97532f",
   "metadata": {},
   "source": [
    "## Задача 6"
   ]
  },
  {
   "cell_type": "code",
   "execution_count": 128,
   "id": "867717d8",
   "metadata": {},
   "outputs": [],
   "source": [
    "url7 = \"https://parsinger.ru/selenium/7/7.html\""
   ]
  },
  {
   "cell_type": "code",
   "execution_count": 129,
   "id": "1d236c51",
   "metadata": {},
   "outputs": [],
   "source": [
    "driver = webdriver.Chrome(options=options)\n",
    "driver.get(url7)"
   ]
  },
  {
   "cell_type": "code",
   "execution_count": 132,
   "id": "208ee47e",
   "metadata": {
    "scrolled": true
   },
   "outputs": [
    {
     "name": "stdout",
     "output_type": "stream",
     "text": [
      "321687416587463168743416874641687\n"
     ]
    }
   ],
   "source": [
    "btn1 = driver.find_element(By.ID, \"opt\")\n",
    "btn1.click()\n",
    "summ = sum([int(b.text) for b in driver.find_elements(By.TAG_NAME, \"option\")])\n",
    "form = driver.find_element(By.ID, \"input_result\")\n",
    "form.send_keys(summ)\n",
    "btn = driver.find_element(By.CLASS_NAME, \"btn\")\n",
    "btn.click()\n",
    "res = driver.find_element(By.ID, \"result\")\n",
    "print(res.text)"
   ]
  },
  {
   "cell_type": "markdown",
   "id": "696b0cdf",
   "metadata": {},
   "source": [
    "## Задача 7"
   ]
  },
  {
   "cell_type": "code",
   "execution_count": 8,
   "id": "a83875fc",
   "metadata": {},
   "outputs": [],
   "source": [
    "url1 = \"https://parsinger.ru/selenium/1/1.html\""
   ]
  },
  {
   "cell_type": "code",
   "execution_count": 52,
   "id": "6eadf4c2",
   "metadata": {
    "scrolled": true
   },
   "outputs": [
    {
     "name": "stdout",
     "output_type": "stream",
     "text": [
      "1123581321345589144233377610987\n"
     ]
    }
   ],
   "source": [
    "driver = webdriver.Chrome(options=options)\n",
    "driver.get(url1)\n",
    "data = [\"Иван\", \"Иванов\", \"Иванович\", \"21\", \"Москва\", \"ivanov@edu.hse.ru\"]\n",
    "form_boxes = driver.find_elements(By.CLASS_NAME, \"form\")\n",
    "for i in range(len(form_boxes)):\n",
    "    form_boxes[i].send_keys(data[i])\n",
    "button = driver.find_element(By.CLASS_NAME, \"btn\")\n",
    "button.click()\n",
    "res = driver.find_element(By.ID, \"result\")\n",
    "print(res.text)"
   ]
  },
  {
   "cell_type": "code",
   "execution_count": null,
   "id": "a740c994",
   "metadata": {},
   "outputs": [],
   "source": []
  }
 ],
 "metadata": {
  "kernelspec": {
   "display_name": "Python 3 (ipykernel)",
   "language": "python",
   "name": "python3"
  },
  "language_info": {
   "codemirror_mode": {
    "name": "ipython",
    "version": 3
   },
   "file_extension": ".py",
   "mimetype": "text/x-python",
   "name": "python",
   "nbconvert_exporter": "python",
   "pygments_lexer": "ipython3",
   "version": "3.11.4"
  }
 },
 "nbformat": 4,
 "nbformat_minor": 5
}
