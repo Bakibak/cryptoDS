{
 "cells": [
  {
   "cell_type": "code",
   "execution_count": null,
   "id": "114ba869",
   "metadata": {},
   "outputs": [],
   "source": [
    "#!pip install telethon"
   ]
  },
  {
   "cell_type": "code",
   "execution_count": 1,
   "id": "41087cb5",
   "metadata": {},
   "outputs": [],
   "source": [
    "import numpy as np\n",
    "from telethon import TelegramClient, events, sync, connection"
   ]
  },
  {
   "cell_type": "code",
   "execution_count": 2,
   "id": "5b15eb24",
   "metadata": {},
   "outputs": [
    {
     "data": {
      "text/plain": [
       "'\\nhttps://my.telegram.org/apps\\n'"
      ]
     },
     "execution_count": 2,
     "metadata": {},
     "output_type": "execute_result"
    }
   ],
   "source": [
    "'''\n",
    "https://my.telegram.org/apps\n",
    "'''"
   ]
  },
  {
   "cell_type": "code",
   "execution_count": 3,
   "id": "cfb3b110",
   "metadata": {},
   "outputs": [],
   "source": [
    "api_id = 'XXXXXXXX'\n",
    "api_hash = 'XXXXXXXXXXXXXXXXXXXXXXXX'\n",
    "s_v = \"4.10.5 beta x64\" # чтобы не было разлогина в аккаунте tg"
   ]
  },
  {
   "cell_type": "code",
   "execution_count": null,
   "id": "72403b9c",
   "metadata": {},
   "outputs": [],
   "source": [
    "client = TelegramClient('YOUR_session_name', api_id, api_hash, system_version = s_v)\n",
    "await client.start()\n",
    "print(await client.get_me())\n",
    "#await client.disconnect()"
   ]
  },
  {
   "cell_type": "code",
   "execution_count": 5,
   "id": "2f34b2f9",
   "metadata": {},
   "outputs": [],
   "source": [
    "group = 'https://t.me/Parsinger_Telethon_Test'"
   ]
  },
  {
   "cell_type": "markdown",
   "id": "3de35e37",
   "metadata": {},
   "source": [
    "# Задача 1"
   ]
  },
  {
   "cell_type": "code",
   "execution_count": 6,
   "id": "ea2df1ac",
   "metadata": {},
   "outputs": [
    {
     "name": "stdout",
     "output_type": "stream",
     "text": [
      "96109535152146203337\n"
     ]
    }
   ],
   "source": [
    "all_mes = await client.get_messages(group, limit=np.inf)\n",
    "itog = 0\n",
    "for mes in all_mes:\n",
    "    try:\n",
    "        chislo = int(mes.text)\n",
    "        itog += chislo\n",
    "    except:\n",
    "        pass\n",
    "print(itog)"
   ]
  },
  {
   "cell_type": "markdown",
   "id": "94c61489",
   "metadata": {},
   "source": [
    "# Задача 2"
   ]
  },
  {
   "cell_type": "code",
   "execution_count": 7,
   "id": "c594778f",
   "metadata": {},
   "outputs": [],
   "source": [
    "from telethon.tl.types import InputMessagesFilterPinned"
   ]
  },
  {
   "cell_type": "code",
   "execution_count": 9,
   "id": "bcd9ec04",
   "metadata": {},
   "outputs": [
    {
     "name": "stdout",
     "output_type": "stream",
     "text": [
      "6508314190\n"
     ]
    }
   ],
   "source": [
    "pin_message = await client.get_messages(group, filter=InputMessagesFilterPinned)\n",
    "for m in pin_message:\n",
    "    id_user = m.from_id.user_id\n",
    "    print(id_user)"
   ]
  },
  {
   "cell_type": "markdown",
   "id": "fffff02c",
   "metadata": {},
   "source": [
    "# Задача 3"
   ]
  },
  {
   "cell_type": "code",
   "execution_count": 10,
   "id": "e8fc5173",
   "metadata": {
    "scrolled": false
   },
   "outputs": [
    {
     "name": "stdout",
     "output_type": "stream",
     "text": [
      "7485937485937485937\n"
     ]
    }
   ],
   "source": [
    "mess = await client.get_messages(group, from_user = 6388067367, limit = np.inf)\n",
    "for m in mess:\n",
    "    try:\n",
    "        print(int(m.text))\n",
    "    except:\n",
    "        pass"
   ]
  },
  {
   "cell_type": "markdown",
   "id": "6e841ede",
   "metadata": {},
   "source": [
    "# Задача 4"
   ]
  },
  {
   "cell_type": "code",
   "execution_count": 11,
   "id": "4955d0d6",
   "metadata": {},
   "outputs": [
    {
     "name": "stdout",
     "output_type": "stream",
     "text": [
      "['nikita_skyx', 'aleksey1235678', 'daria_sweetinger', 'oleg_bolds', 'igorstoperz', 'marina_flowerzzz', 'victor_7777778', 'anna_starlet', 'sveta_lightf', 'vladimir_might']\n"
     ]
    }
   ],
   "source": [
    "mess = await client.get_messages(group, limit = np.inf)\n",
    "username_list = []\n",
    "for m in mess:\n",
    "    try:\n",
    "        int(m.text)\n",
    "        id_user = m.from_id.user_id\n",
    "        user = await client.get_entity(id_user)\n",
    "        username = user.username\n",
    "        username_list.append(username)\n",
    "    except:\n",
    "        pass\n",
    "username_list = list(set(username_list)-{None})\n",
    "print(username_list)"
   ]
  },
  {
   "cell_type": "code",
   "execution_count": null,
   "id": "748cd062",
   "metadata": {},
   "outputs": [],
   "source": []
  }
 ],
 "metadata": {
  "kernelspec": {
   "display_name": "Python 3 (ipykernel)",
   "language": "python",
   "name": "python3"
  },
  "language_info": {
   "codemirror_mode": {
    "name": "ipython",
    "version": 3
   },
   "file_extension": ".py",
   "mimetype": "text/x-python",
   "name": "python",
   "nbconvert_exporter": "python",
   "pygments_lexer": "ipython3",
   "version": "3.11.4"
  }
 },
 "nbformat": 4,
 "nbformat_minor": 5
}
