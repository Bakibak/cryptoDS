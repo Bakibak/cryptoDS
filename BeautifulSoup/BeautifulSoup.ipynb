{
 "cells": [
  {
   "cell_type": "code",
   "execution_count": 2,
   "id": "3b2db113",
   "metadata": {},
   "outputs": [],
   "source": [
    "import requests\n",
    "from bs4 import BeautifulSoup as BS"
   ]
  },
  {
   "cell_type": "markdown",
   "id": "e27a7347",
   "metadata": {},
   "source": [
    "## Задача 1"
   ]
  },
  {
   "cell_type": "code",
   "execution_count": 17,
   "id": "00b6d5a7",
   "metadata": {},
   "outputs": [],
   "source": [
    "url = 'https://parsinger.ru/4.3/3/index.html'\n",
    "resp = requests.get(url)\n",
    "resp.encoding = 'utf-8'\n",
    "html = resp.text\n",
    "soup = BS(html)"
   ]
  },
  {
   "cell_type": "code",
   "execution_count": 18,
   "id": "f8446a53",
   "metadata": {},
   "outputs": [
    {
     "data": {
      "text/plain": [
       "3122097"
      ]
     },
     "execution_count": 18,
     "metadata": {},
     "output_type": "execute_result"
    }
   ],
   "source": [
    "sum([int(x.get('alt')) for x in soup.find_all('img')])"
   ]
  },
  {
   "cell_type": "markdown",
   "id": "98f1a487",
   "metadata": {},
   "source": [
    "## Задача 2"
   ]
  },
  {
   "cell_type": "code",
   "execution_count": 19,
   "id": "8efa7b0b",
   "metadata": {},
   "outputs": [],
   "source": [
    "url = 'https://parsinger.ru/4.3/4/index.html'\n",
    "resp = requests.get(url)\n",
    "resp.encoding = 'utf-8'\n",
    "html = resp.text\n",
    "soup = BS(html)"
   ]
  },
  {
   "cell_type": "code",
   "execution_count": 22,
   "id": "a1d691c1",
   "metadata": {},
   "outputs": [
    {
     "data": {
      "text/plain": [
       "24294792"
      ]
     },
     "execution_count": 22,
     "metadata": {},
     "output_type": "execute_result"
    }
   ],
   "source": [
    "list_itog = []\n",
    "for i in range(len(soup.find_all('p'))):\n",
    "    length = len(''.join(soup.find_all('p')[i].text.split()))\n",
    "    if length%2 == 0:\n",
    "        itog = int(soup.find_all('p')[i]['id'])+int(soup.find_all('p')[i]['class'][0])\n",
    "        list_itog.append(itog)\n",
    "sum(list_itog)"
   ]
  },
  {
   "cell_type": "markdown",
   "id": "5103729d",
   "metadata": {},
   "source": [
    "## Задача 3"
   ]
  },
  {
   "cell_type": "code",
   "execution_count": 60,
   "id": "f712b7ec",
   "metadata": {},
   "outputs": [],
   "source": [
    "url = 'https://parsinger.ru/4.1/1/index3.html'\n",
    "resp = requests.get(url)\n",
    "resp.encoding = 'utf-8'\n",
    "html = resp.text\n",
    "soup = BS(html)"
   ]
  },
  {
   "cell_type": "code",
   "execution_count": 61,
   "id": "330744a6",
   "metadata": {},
   "outputs": [
    {
     "data": {
      "text/plain": [
       "'Графический процессор: nVidia GeForce RTX 4060'"
      ]
     },
     "execution_count": 61,
     "metadata": {},
     "output_type": "execute_result"
    }
   ],
   "source": [
    "tag = soup.find(attrs = {'data-gpu': 'nVidia GeForce RTX 4060'})\n",
    "tag.text"
   ]
  },
  {
   "cell_type": "markdown",
   "id": "c93a466b",
   "metadata": {},
   "source": [
    "## Задача 4"
   ]
  },
  {
   "cell_type": "code",
   "execution_count": 8,
   "id": "ec878a9a",
   "metadata": {},
   "outputs": [],
   "source": [
    "url = 'https://parsinger.ru/4.1/1/index2.html'\n",
    "resp = requests.get(url)\n",
    "resp.encoding = 'utf-8'\n",
    "html = resp.text\n",
    "soup = BS(html)"
   ]
  },
  {
   "cell_type": "code",
   "execution_count": 9,
   "id": "37c4e701",
   "metadata": {},
   "outputs": [
    {
     "data": {
      "text/plain": [
       "'Объем видеопамяти: 8192Mb'"
      ]
     },
     "execution_count": 9,
     "metadata": {},
     "output_type": "execute_result"
    }
   ],
   "source": [
    "tag = soup.find(class_ = \"description_detail class1 class2 class3\",\n",
    "                attrs={\n",
    "                    'data-fdg45': 'value13',\n",
    "                    'data-54dfg60': 'value14',\n",
    "                    'data-d6f50hg': 'value15'\n",
    "                })\n",
    "\n",
    "# Альтернативный способ\n",
    "\n",
    "# tag = soup.find(attrs={\n",
    "#     'class': [\"description_detail\", 'class1', 'class2', 'class3'] , \n",
    "#     'data-fdg45': 'value13',\n",
    "#     'data-54dfg60': 'value14',\n",
    "#     'data-d6f50hg': 'value15'\n",
    "# })\n",
    "\n",
    "tag.text"
   ]
  },
  {
   "cell_type": "markdown",
   "id": "3e4b872a",
   "metadata": {},
   "source": [
    "## Задача 5"
   ]
  },
  {
   "cell_type": "code",
   "execution_count": 64,
   "id": "a5fcad39",
   "metadata": {},
   "outputs": [],
   "source": [
    "url = 'https://parsinger.ru/4.1/1/index.html'\n",
    "resp = requests.get(url)\n",
    "resp.encoding = 'utf-8'\n",
    "html = resp.text\n",
    "soup = BS(html)"
   ]
  },
  {
   "cell_type": "code",
   "execution_count": 66,
   "id": "80436db7",
   "metadata": {},
   "outputs": [
    {
     "data": {
      "text/plain": [
       "'Система охлаждения: Активная (радиатор + 2 вентилятора)'"
      ]
     },
     "execution_count": 66,
     "metadata": {},
     "output_type": "execute_result"
    }
   ],
   "source": [
    "soup.find('li', {'data-key':'cooling_system'}).text"
   ]
  },
  {
   "cell_type": "code",
   "execution_count": 65,
   "id": "840d5ae3",
   "metadata": {},
   "outputs": [
    {
     "data": {
      "text/plain": [
       "'Графический процессор: Radeon RX 6650 XT'"
      ]
     },
     "execution_count": 65,
     "metadata": {},
     "output_type": "execute_result"
    }
   ],
   "source": [
    "soup.find(class_='description detailz').text"
   ]
  },
  {
   "cell_type": "markdown",
   "id": "f5d138c1",
   "metadata": {},
   "source": [
    "## Задача 6"
   ]
  },
  {
   "cell_type": "code",
   "execution_count": 69,
   "id": "8b6e9ccd",
   "metadata": {},
   "outputs": [],
   "source": [
    "url = 'https://parsinger.ru/4.1/1/index4.html'\n",
    "resp = requests.get(url)\n",
    "resp.encoding = 'utf-8'\n",
    "html = resp.text\n",
    "soup = BS(html)"
   ]
  },
  {
   "cell_type": "code",
   "execution_count": 10,
   "id": "f9158b9e",
   "metadata": {},
   "outputs": [],
   "source": [
    "# находим нужный класс: 'price product_price'"
   ]
  },
  {
   "cell_type": "code",
   "execution_count": 70,
   "id": "3ba39a87",
   "metadata": {},
   "outputs": [
    {
     "data": {
      "text/plain": [
       "1652100"
      ]
     },
     "execution_count": 70,
     "metadata": {},
     "output_type": "execute_result"
    }
   ],
   "source": [
    "sum([int(\"\".join(i.text.replace(\"руб\",\"\").split())) for i in soup.find_all(class_ = 'price product_price')])"
   ]
  },
  {
   "cell_type": "markdown",
   "id": "95cd862d",
   "metadata": {},
   "source": [
    "## Задача 7"
   ]
  },
  {
   "cell_type": "code",
   "execution_count": 3,
   "id": "f7e13eaa",
   "metadata": {},
   "outputs": [],
   "source": [
    "url = 'https://parsinger.ru/4.1/1/index5.html'\n",
    "resp = requests.get(url)\n",
    "resp.encoding = 'utf-8'\n",
    "html = resp.text\n",
    "soup = BS(html)"
   ]
  },
  {
   "cell_type": "code",
   "execution_count": 5,
   "id": "5836fc90",
   "metadata": {},
   "outputs": [
    {
     "name": "stdout",
     "output_type": "stream",
     "text": [
      "keep2036@duck.com\n",
      "andrea1837@example.org\n",
      "libs1815@live.com\n",
      "travels1859@example.com\n",
      "extended1928@protonmail.com\n",
      "correctly1802@gmail.com\n",
      "strict2037@outlook.com\n",
      "allen1886@outlook.com\n",
      "weekends1961@example.com\n",
      "sorted2073@yandex.com\n"
     ]
    }
   ],
   "source": [
    "for email in soup.find_all(class_=\"email_field\"):\n",
    "    print(email.text.replace('Электронная почта: ', '').split()[0])"
   ]
  },
  {
   "cell_type": "markdown",
   "id": "35f34bbb",
   "metadata": {},
   "source": [
    "## Задача 8"
   ]
  },
  {
   "cell_type": "code",
   "execution_count": 24,
   "id": "c448deb6",
   "metadata": {},
   "outputs": [],
   "source": [
    "url = 'https://parsinger.ru/4.3/5/index.html'\n",
    "resp = requests.get(url)\n",
    "resp.encoding = 'utf-8'\n",
    "html = resp.text\n",
    "soup = BS(html)"
   ]
  },
  {
   "cell_type": "code",
   "execution_count": 25,
   "id": "b2348688",
   "metadata": {},
   "outputs": [],
   "source": [
    "list_prices = [float(i.text.replace('Цена: $','')) for i in soup.find_all(class_=\"count price\")]\n",
    "list_counts =[int(i.text.replace('Количество на складе: ','')) for i in soup.find_all(class_=\"count stock\")]"
   ]
  },
  {
   "cell_type": "code",
   "execution_count": 28,
   "id": "369f0a54",
   "metadata": {},
   "outputs": [
    {
     "data": {
      "text/plain": [
       "10704.0"
      ]
     },
     "execution_count": 28,
     "metadata": {},
     "output_type": "execute_result"
    }
   ],
   "source": [
    "sum([x*y for x, y in zip(list_prices, list_counts)])"
   ]
  }
 ],
 "metadata": {
  "kernelspec": {
   "display_name": "Python 3 (ipykernel)",
   "language": "python",
   "name": "python3"
  },
  "language_info": {
   "codemirror_mode": {
    "name": "ipython",
    "version": 3
   },
   "file_extension": ".py",
   "mimetype": "text/x-python",
   "name": "python",
   "nbconvert_exporter": "python",
   "pygments_lexer": "ipython3",
   "version": "3.11.4"
  }
 },
 "nbformat": 4,
 "nbformat_minor": 5
}
