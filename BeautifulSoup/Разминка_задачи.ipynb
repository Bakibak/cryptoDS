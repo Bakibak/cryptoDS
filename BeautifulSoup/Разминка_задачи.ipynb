{
 "cells": [
  {
   "cell_type": "markdown",
   "id": "049c324b",
   "metadata": {},
   "source": [
    "# Задача 1"
   ]
  },
  {
   "cell_type": "code",
   "execution_count": null,
   "id": "ef230dff",
   "metadata": {},
   "outputs": [],
   "source": [
    "# Импортируйте библиотеку BeautifulSoup. \n",
    "... \n",
    " \n",
    "card_html = \"\"\" \n",
    "<div class=\"price sale\" data-behavior=\"product-price\" itemprop=\"offers\">  \n",
    "  <meta itemprop=\"price\" content=\"3490\">  \n",
    "  <div class=\"title\" data-behavior=\"price-title\"> \n",
    "    <span class=\"text\">Богатырские доспехи, шт.</span> \n",
    "  </div> \n",
    "  <div class=\"old-price\"> \n",
    "    <span class=\"price\" value=\"3490\" data-behavior=\"price-old\">3 490 рублей</span> \n",
    "  </div> \n",
    "  <div class=\"nameplate color-green\" data-behavior=\"price-discount\">Скидка 700 рублей</div>  \n",
    "  <span class=\"price\" value=\"2790\" data-behavior=\"price-now\">2 790 рублей</span>   \n",
    "</div> \n",
    "\"\"\" \n",
    " \n",
    "# Сварите богатырский «суп» из HTML-кода. \n",
    "soup = ... \n",
    " \n",
    "# Найдите в «супе» актуальную стоимость богатырских доспехов. \n",
    "... \n",
    " \n",
    "# Посчитайте, сколько будет стоить пять комплектов богатырских доспехов. \n",
    "total_sum = 5 * ... \n",
    " \n",
    "print('В казну полагается принести:', total_sum, 'рублей') \n"
   ]
  },
  {
   "cell_type": "markdown",
   "id": "8c247497",
   "metadata": {},
   "source": [
    "# Задача 2"
   ]
  },
  {
   "cell_type": "code",
   "execution_count": null,
   "id": "398e4acc",
   "metadata": {},
   "outputs": [],
   "source": [
    "# Импортируйте библиотеку BeautifulSoup. \n",
    " \n",
    " \n",
    "price_html = \"\"\" \n",
    "<table cellspacing=\"0\" cellpadding=\"0\" border=\"1\"> \n",
    "  <tbody> \n",
    "    <tr class=\"even_row\"> \n",
    "      <th><p>№ п/п</p></th> \n",
    "      <th class=\"armor\"><p>Название</p></th> \n",
    "      <th class=\"price\"><p>Цена</p><p>рублей</p></th> \n",
    "    </tr> \n",
    "    <tr class=\"odd_row\"> \n",
    "      <td><p>1.</p></td> \n",
    "      <td class=\"armor\"><p>Щит</p></td> \n",
    "      <td class=\"price\"><p>375</p></td> \n",
    "    </tr> \n",
    "    <tr class=\"even_row\"> \n",
    "      <td><p>2.</p></td> \n",
    "      <td class=\"armor\"><p>Шлем</p></td> \n",
    "      <td class=\"price\"><p>297</p></td> \n",
    "    </tr> \n",
    "    <tr class=\"odd_row\"> \n",
    "      <td><p>3.</p></td> \n",
    "      <td class=\"armor\"><p>Кольчуга</p></td> \n",
    "      <td class=\"price\"><p>565</p></td> \n",
    "    </tr> \n",
    "    <tr class=\"even_row\"> \n",
    "      <td><p>4.</p></td> \n",
    "      <td class=\"armor\"><p>Булава</p></td> \n",
    "      <td class=\"price\"><p>1992</p></td> \n",
    "    </tr> \n",
    "    <!-- Сюда может добавиться неизвестное количество элементов экипировки. \n",
    "      Их тоже нужно учитывать при расчёте средней цены. --> \n",
    "  </tbody> \n",
    "</table> \n",
    "\"\"\" \n",
    " \n",
    "# Создайте «суп». \n",
    "soup =  \n",
    " \n",
    "# Найдите в «супе» актуальную стоимость богатырских доспехов. \n",
    "result = \n",
    " \n",
    "print('Средняя цена богатырских доспехов: ', result, 'рублей')\n"
   ]
  }
 ],
 "metadata": {
  "kernelspec": {
   "display_name": "Python 3 (ipykernel)",
   "language": "python",
   "name": "python3"
  },
  "language_info": {
   "codemirror_mode": {
    "name": "ipython",
    "version": 3
   },
   "file_extension": ".py",
   "mimetype": "text/x-python",
   "name": "python",
   "nbconvert_exporter": "python",
   "pygments_lexer": "ipython3",
   "version": "3.11.4"
  }
 },
 "nbformat": 4,
 "nbformat_minor": 5
}
